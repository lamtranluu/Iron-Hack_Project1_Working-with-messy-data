{
 "cells": [
  {
   "cell_type": "markdown",
   "id": "e2542eb8",
   "metadata": {},
   "source": [
    "### Import data - Clean the data - Answer question 2"
   ]
  },
  {
   "cell_type": "code",
   "execution_count": 179,
   "id": "0a1a258f",
   "metadata": {},
   "outputs": [],
   "source": [
    "import numpy as np\n",
    "import pandas as pd"
   ]
  },
  {
   "cell_type": "code",
   "execution_count": 180,
   "id": "40686e3b",
   "metadata": {},
   "outputs": [],
   "source": [
    "p1=pd.read_csv('/Users/macbook/Documents/IRON  HACK/Project 1/US job market_project 1/alldata.csv')"
   ]
  },
  {
   "cell_type": "code",
   "execution_count": 181,
   "id": "5cb84055",
   "metadata": {},
   "outputs": [
    {
     "name": "stdout",
     "output_type": "stream",
     "text": [
      "<class 'pandas.core.frame.DataFrame'>\n",
      "RangeIndex: 6964 entries, 0 to 6963\n",
      "Data columns (total 5 columns):\n",
      " #   Column       Non-Null Count  Dtype  \n",
      "---  ------       --------------  -----  \n",
      " 0   position     6953 non-null   object \n",
      " 1   company      6953 non-null   object \n",
      " 2   description  6953 non-null   object \n",
      " 3   reviews      5326 non-null   float64\n",
      " 4   location     6953 non-null   object \n",
      "dtypes: float64(1), object(4)\n",
      "memory usage: 272.2+ KB\n"
     ]
    }
   ],
   "source": [
    "p1.info()"
   ]
  },
  {
   "cell_type": "code",
   "execution_count": 182,
   "id": "93ac35eb",
   "metadata": {},
   "outputs": [
    {
     "data": {
      "text/html": [
       "<div>\n",
       "<style scoped>\n",
       "    .dataframe tbody tr th:only-of-type {\n",
       "        vertical-align: middle;\n",
       "    }\n",
       "\n",
       "    .dataframe tbody tr th {\n",
       "        vertical-align: top;\n",
       "    }\n",
       "\n",
       "    .dataframe thead th {\n",
       "        text-align: right;\n",
       "    }\n",
       "</style>\n",
       "<table border=\"1\" class=\"dataframe\">\n",
       "  <thead>\n",
       "    <tr style=\"text-align: right;\">\n",
       "      <th></th>\n",
       "      <th>position</th>\n",
       "      <th>company</th>\n",
       "      <th>description</th>\n",
       "      <th>reviews</th>\n",
       "      <th>location</th>\n",
       "    </tr>\n",
       "  </thead>\n",
       "  <tbody>\n",
       "    <tr>\n",
       "      <th>0</th>\n",
       "      <td>Development Director</td>\n",
       "      <td>ALS TDI</td>\n",
       "      <td>Development Director\\nALS Therapy Development ...</td>\n",
       "      <td>NaN</td>\n",
       "      <td>Atlanta, GA 30301</td>\n",
       "    </tr>\n",
       "    <tr>\n",
       "      <th>1</th>\n",
       "      <td>An Ostentatiously-Excitable Principal Research...</td>\n",
       "      <td>The Hexagon Lavish</td>\n",
       "      <td>Job Description\\n\\n\"The road that leads to acc...</td>\n",
       "      <td>NaN</td>\n",
       "      <td>Atlanta, GA</td>\n",
       "    </tr>\n",
       "    <tr>\n",
       "      <th>2</th>\n",
       "      <td>Data Scientist</td>\n",
       "      <td>Xpert Staffing</td>\n",
       "      <td>Growing company located in the Atlanta, GA are...</td>\n",
       "      <td>NaN</td>\n",
       "      <td>Atlanta, GA</td>\n",
       "    </tr>\n",
       "    <tr>\n",
       "      <th>3</th>\n",
       "      <td>Data Analyst</td>\n",
       "      <td>Operation HOPE</td>\n",
       "      <td>DEPARTMENT: Program OperationsPOSITION LOCATIO...</td>\n",
       "      <td>44.0</td>\n",
       "      <td>Atlanta, GA 30303</td>\n",
       "    </tr>\n",
       "    <tr>\n",
       "      <th>4</th>\n",
       "      <td>Assistant Professor -TT - Signal Processing &amp; ...</td>\n",
       "      <td>Emory University</td>\n",
       "      <td>DESCRIPTION\\nThe Emory University Department o...</td>\n",
       "      <td>550.0</td>\n",
       "      <td>Atlanta, GA</td>\n",
       "    </tr>\n",
       "  </tbody>\n",
       "</table>\n",
       "</div>"
      ],
      "text/plain": [
       "                                            position             company  \\\n",
       "0                               Development Director             ALS TDI   \n",
       "1  An Ostentatiously-Excitable Principal Research...  The Hexagon Lavish   \n",
       "2                                     Data Scientist      Xpert Staffing   \n",
       "3                                       Data Analyst      Operation HOPE   \n",
       "4  Assistant Professor -TT - Signal Processing & ...    Emory University   \n",
       "\n",
       "                                         description  reviews  \\\n",
       "0  Development Director\\nALS Therapy Development ...      NaN   \n",
       "1  Job Description\\n\\n\"The road that leads to acc...      NaN   \n",
       "2  Growing company located in the Atlanta, GA are...      NaN   \n",
       "3  DEPARTMENT: Program OperationsPOSITION LOCATIO...     44.0   \n",
       "4  DESCRIPTION\\nThe Emory University Department o...    550.0   \n",
       "\n",
       "             location  \n",
       "0  Atlanta, GA 30301   \n",
       "1         Atlanta, GA  \n",
       "2         Atlanta, GA  \n",
       "3  Atlanta, GA 30303   \n",
       "4         Atlanta, GA  "
      ]
     },
     "execution_count": 182,
     "metadata": {},
     "output_type": "execute_result"
    }
   ],
   "source": [
    "p1.head()"
   ]
  },
  {
   "cell_type": "code",
   "execution_count": 183,
   "id": "d5f11bb7",
   "metadata": {},
   "outputs": [
    {
     "data": {
      "text/plain": [
       "(6964, 5)"
      ]
     },
     "execution_count": 183,
     "metadata": {},
     "output_type": "execute_result"
    }
   ],
   "source": [
    "p1.shape"
   ]
  },
  {
   "cell_type": "markdown",
   "id": "632184a6",
   "metadata": {},
   "source": [
    "#### Check duplicates"
   ]
  },
  {
   "cell_type": "code",
   "execution_count": 184,
   "id": "c1eb9e23",
   "metadata": {},
   "outputs": [
    {
     "name": "stdout",
     "output_type": "stream",
     "text": [
      "     position company description  reviews location\n",
      "331       NaN     NaN         NaN      NaN      NaN\n",
      "466       NaN     NaN         NaN      NaN      NaN\n",
      "482       NaN     NaN         NaN      NaN      NaN\n",
      "3337      NaN     NaN         NaN      NaN      NaN\n",
      "5014      NaN     NaN         NaN      NaN      NaN\n",
      "5059      NaN     NaN         NaN      NaN      NaN\n",
      "5103      NaN     NaN         NaN      NaN      NaN\n",
      "5114      NaN     NaN         NaN      NaN      NaN\n",
      "6093      NaN     NaN         NaN      NaN      NaN\n",
      "6168      NaN     NaN         NaN      NaN      NaN\n"
     ]
    }
   ],
   "source": [
    "p1_dups=p1[p1.duplicated()]\n",
    "print (p1_dups)"
   ]
  },
  {
   "cell_type": "code",
   "execution_count": 185,
   "id": "fd96b2c9",
   "metadata": {},
   "outputs": [],
   "source": [
    "df=p1.drop_duplicates()"
   ]
  },
  {
   "cell_type": "code",
   "execution_count": 186,
   "id": "5b28f39f",
   "metadata": {},
   "outputs": [
    {
     "data": {
      "text/plain": [
       "(6954, 5)"
      ]
     },
     "execution_count": 186,
     "metadata": {},
     "output_type": "execute_result"
    }
   ],
   "source": [
    "df.shape"
   ]
  },
  {
   "cell_type": "code",
   "execution_count": 187,
   "id": "7f87aa60",
   "metadata": {},
   "outputs": [
    {
     "name": "stdout",
     "output_type": "stream",
     "text": [
      "<class 'pandas.core.frame.DataFrame'>\n",
      "Int64Index: 6954 entries, 0 to 6963\n",
      "Data columns (total 5 columns):\n",
      " #   Column       Non-Null Count  Dtype  \n",
      "---  ------       --------------  -----  \n",
      " 0   position     6953 non-null   object \n",
      " 1   company      6953 non-null   object \n",
      " 2   description  6953 non-null   object \n",
      " 3   reviews      5326 non-null   float64\n",
      " 4   location     6953 non-null   object \n",
      "dtypes: float64(1), object(4)\n",
      "memory usage: 326.0+ KB\n"
     ]
    }
   ],
   "source": [
    "df.info()"
   ]
  },
  {
   "cell_type": "code",
   "execution_count": 188,
   "id": "dc951792",
   "metadata": {},
   "outputs": [],
   "source": [
    "df.reset_index(drop=True, inplace=True)"
   ]
  },
  {
   "cell_type": "code",
   "execution_count": 189,
   "id": "d6d519db",
   "metadata": {},
   "outputs": [
    {
     "name": "stdout",
     "output_type": "stream",
     "text": [
      "<class 'pandas.core.frame.DataFrame'>\n",
      "RangeIndex: 6954 entries, 0 to 6953\n",
      "Data columns (total 5 columns):\n",
      " #   Column       Non-Null Count  Dtype  \n",
      "---  ------       --------------  -----  \n",
      " 0   position     6953 non-null   object \n",
      " 1   company      6953 non-null   object \n",
      " 2   description  6953 non-null   object \n",
      " 3   reviews      5326 non-null   float64\n",
      " 4   location     6953 non-null   object \n",
      "dtypes: float64(1), object(4)\n",
      "memory usage: 271.8+ KB\n"
     ]
    }
   ],
   "source": [
    "df.info()"
   ]
  },
  {
   "cell_type": "markdown",
   "id": "6712bab1",
   "metadata": {},
   "source": [
    "#### Remove rows with all null values"
   ]
  },
  {
   "cell_type": "code",
   "execution_count": 190,
   "id": "838cf69e",
   "metadata": {},
   "outputs": [
    {
     "name": "stderr",
     "output_type": "stream",
     "text": [
      "<ipython-input-190-a287a3421fd5>:1: SettingWithCopyWarning: \n",
      "A value is trying to be set on a copy of a slice from a DataFrame.\n",
      "Try using .loc[row_indexer,col_indexer] = value instead\n",
      "\n",
      "See the caveats in the documentation: https://pandas.pydata.org/pandas-docs/stable/user_guide/indexing.html#returning-a-view-versus-a-copy\n",
      "  df['reviews'] = df['reviews'].fillna(0)\n"
     ]
    }
   ],
   "source": [
    "df['reviews'] = df['reviews'].fillna(0)"
   ]
  },
  {
   "cell_type": "code",
   "execution_count": 191,
   "id": "c0bd6b24",
   "metadata": {},
   "outputs": [
    {
     "data": {
      "text/plain": [
       "0"
      ]
     },
     "execution_count": 191,
     "metadata": {},
     "output_type": "execute_result"
    }
   ],
   "source": [
    "df = df.dropna(axis=0, how = 'any')\n",
    "sum(df.isnull().any(axis=1))"
   ]
  },
  {
   "cell_type": "code",
   "execution_count": 192,
   "id": "a94c261b",
   "metadata": {},
   "outputs": [
    {
     "name": "stdout",
     "output_type": "stream",
     "text": [
      "<class 'pandas.core.frame.DataFrame'>\n",
      "Int64Index: 6953 entries, 0 to 6953\n",
      "Data columns (total 5 columns):\n",
      " #   Column       Non-Null Count  Dtype  \n",
      "---  ------       --------------  -----  \n",
      " 0   position     6953 non-null   object \n",
      " 1   company      6953 non-null   object \n",
      " 2   description  6953 non-null   object \n",
      " 3   reviews      6953 non-null   float64\n",
      " 4   location     6953 non-null   object \n",
      "dtypes: float64(1), object(4)\n",
      "memory usage: 325.9+ KB\n"
     ]
    }
   ],
   "source": [
    "df.info()"
   ]
  },
  {
   "cell_type": "markdown",
   "id": "754467d3",
   "metadata": {},
   "source": []
  },
  {
   "cell_type": "markdown",
   "id": "56069ec5",
   "metadata": {},
   "source": [
    "#### Remove digits in column ['location']"
   ]
  },
  {
   "cell_type": "code",
   "execution_count": 193,
   "id": "fa971b5d",
   "metadata": {},
   "outputs": [
    {
     "name": "stderr",
     "output_type": "stream",
     "text": [
      "<ipython-input-193-e6a42df0b54d>:1: FutureWarning: The default value of regex will change from True to False in a future version.\n",
      "  df['location'] = df['location'].str.replace('\\d+', '')\n"
     ]
    }
   ],
   "source": [
    "\n",
    "df['location'] = df['location'].str.replace('\\d+', '')\n"
   ]
  },
  {
   "cell_type": "code",
   "execution_count": 194,
   "id": "8b80f2c4",
   "metadata": {},
   "outputs": [
    {
     "data": {
      "text/plain": [
       "array(['Atlanta, GA  ', 'Atlanta, GA', 'Atlanta, GA ', 'Austin, TX',\n",
       "       'Austin, TX ', 'Round Rock, TX ', 'Cedar Park, TX ',\n",
       "       'Round Rock, TX', 'Boulder, CO', 'Boulder, CO ', 'Boston, MA',\n",
       "       'Boston, MA ', 'Chicago, IL', 'Chicago, IL ', 'Washington, DC ',\n",
       "       'Washington, DC', 'Los Angeles, CA', 'Los Angeles, CA ',\n",
       "       'Cambridge, MA', 'Cambridge, MA ', 'Mountain View, CA ',\n",
       "       'Mountain View, CA', 'Manhattan, NY', 'New York, NY',\n",
       "       'New York, NY ', 'Jersey City, NJ', 'Newark, NJ', 'Oakland, NJ',\n",
       "       'Bronx, NY', 'Hoboken, NJ ', 'Brooklyn, NY', 'Rutherford, NJ',\n",
       "       'Union, NJ ', 'Rahway, NJ', 'Newark, NJ ', 'Jersey City, NJ ',\n",
       "       'Murray Hill, NJ', 'South Plainfield, NJ', 'New York, NY  ',\n",
       "       'Hoboken, NJ', 'Queens, NY', 'Little Falls, NJ',\n",
       "       'Florham Park, NJ ', 'Troy Hills, NJ', 'Bloomfield, NJ',\n",
       "       'Lynbrook, NY', 'Allendale, NJ', 'Parsippany, NJ',\n",
       "       'West Orange, NJ ', 'Kenilworth, NJ', 'Ridgefield, NJ',\n",
       "       'Harrison, NY', 'Montclair, NJ', 'Fort Lee, NJ', 'Carlstadt, NJ ',\n",
       "       'Orangeburg, NY ', 'Jersey City, NJ  ', 'Fairfield, NJ',\n",
       "       'Palisades, NY', 'Hackensack, NJ', 'Roseland, NJ ',\n",
       "       'East Hanover, NJ ', 'Long Beach, NY ', 'Whippany, NJ',\n",
       "       'Union, NJ', 'Brooklyn, NY  ', 'Manhasset, NY ', 'Yonkers, NY ',\n",
       "       'New Hyde Park, NY ', 'Secaucus, NJ', 'Port Washington, NY ',\n",
       "       'Staten Island, NY', 'Short Hills, NJ', 'Manhattanville, NY',\n",
       "       'Woodcliff Lake, NJ', 'Brooklyn, NY ', 'Redmond, WA ',\n",
       "       'Redmond, WA', 'San Diego, CA', 'San Diego, CA ', 'Bedminster, NJ',\n",
       "       'New Brunswick, NJ', 'Seattle, WA ', 'Seattle, WA',\n",
       "       'San Francisco, CA ', 'Redwood City, CA', 'San Francisco, CA',\n",
       "       'San Mateo, CA', 'Redwood City, CA ', 'Berkeley, CA',\n",
       "       'San Francisco Bay Area, CA', 'Menlo Park, CA ', 'Emeryville, CA',\n",
       "       'Oakland, CA', 'South San Francisco, CA', 'Foster City, CA',\n",
       "       'Oakland, CA ', 'Emeryville, CA ', 'South San Francisco, CA ',\n",
       "       'San Carlos, CA ', 'San Mateo, CA ', 'Union City, CA ',\n",
       "       'Burlingame, CA ', 'Belmont, CA', 'Richmond, CA ', 'Richmond, CA',\n",
       "       'Berkeley, CA ', 'Hayward, CA', 'Novato, CA', 'Burlingame, CA',\n",
       "       'Alameda, CA ', 'San Rafael, CA', 'Alameda, CA',\n",
       "       'Pleasant Hill, CA', 'San Bruno, CA', 'Novato, CA ',\n",
       "       'San Ramon, CA', 'Lafayette, CA', 'San Leandro, CA',\n",
       "       'Hayward, CA ', 'San Carlos, CA', 'Daly City, CA ',\n",
       "       'Mill Valley, CA ', 'Fremont, CA ', 'San Bruno, CA ',\n",
       "       'Belmont, CA ', 'Martinez, CA', 'Walnut Creek, CA',\n",
       "       'Kentfield, CA ', 'Walnut Creek, CA ', 'Sunnyvale, CA',\n",
       "       'Sunnyvale, CA '], dtype=object)"
      ]
     },
     "execution_count": 194,
     "metadata": {},
     "output_type": "execute_result"
    }
   ],
   "source": [
    "df['location'].unique()"
   ]
  },
  {
   "cell_type": "markdown",
   "id": "ff161968",
   "metadata": {},
   "source": [
    "#### Split 2 columns: city, state from location"
   ]
  },
  {
   "cell_type": "code",
   "execution_count": 195,
   "id": "cb5d6f28",
   "metadata": {},
   "outputs": [],
   "source": [
    "df[['city','state']]= df.location.str.split(\", \", expand=True,)"
   ]
  },
  {
   "cell_type": "code",
   "execution_count": 196,
   "id": "5986d2f7",
   "metadata": {},
   "outputs": [
    {
     "data": {
      "text/plain": [
       "array(['Atlanta', 'Austin', 'Round Rock', 'Cedar Park', 'Boulder',\n",
       "       'Boston', 'Chicago', 'Washington', 'Los Angeles', 'Cambridge',\n",
       "       'Mountain View', 'Manhattan', 'New York', 'Jersey City', 'Newark',\n",
       "       'Oakland', 'Bronx', 'Hoboken', 'Brooklyn', 'Rutherford', 'Union',\n",
       "       'Rahway', 'Murray Hill', 'South Plainfield', 'Queens',\n",
       "       'Little Falls', 'Florham Park', 'Troy Hills', 'Bloomfield',\n",
       "       'Lynbrook', 'Allendale', 'Parsippany', 'West Orange', 'Kenilworth',\n",
       "       'Ridgefield', 'Harrison', 'Montclair', 'Fort Lee', 'Carlstadt',\n",
       "       'Orangeburg', 'Fairfield', 'Palisades', 'Hackensack', 'Roseland',\n",
       "       'East Hanover', 'Long Beach', 'Whippany', 'Manhasset', 'Yonkers',\n",
       "       'New Hyde Park', 'Secaucus', 'Port Washington', 'Staten Island',\n",
       "       'Short Hills', 'Manhattanville', 'Woodcliff Lake', 'Redmond',\n",
       "       'San Diego', 'Bedminster', 'New Brunswick', 'Seattle',\n",
       "       'San Francisco', 'Redwood City', 'San Mateo', 'Berkeley',\n",
       "       'San Francisco Bay Area', 'Menlo Park', 'Emeryville',\n",
       "       'South San Francisco', 'Foster City', 'San Carlos', 'Union City',\n",
       "       'Burlingame', 'Belmont', 'Richmond', 'Hayward', 'Novato',\n",
       "       'Alameda', 'San Rafael', 'Pleasant Hill', 'San Bruno', 'San Ramon',\n",
       "       'Lafayette', 'San Leandro', 'Daly City', 'Mill Valley', 'Fremont',\n",
       "       'Martinez', 'Walnut Creek', 'Kentfield', 'Sunnyvale'], dtype=object)"
      ]
     },
     "execution_count": 196,
     "metadata": {},
     "output_type": "execute_result"
    }
   ],
   "source": [
    "df['city'].unique()"
   ]
  },
  {
   "cell_type": "markdown",
   "id": "12cc2634",
   "metadata": {},
   "source": [
    "#### Extract to excel for Tableau"
   ]
  },
  {
   "cell_type": "code",
   "execution_count": 197,
   "id": "e78dc02f",
   "metadata": {},
   "outputs": [
    {
     "name": "stderr",
     "output_type": "stream",
     "text": [
      "/Users/macbook/opt/anaconda3/lib/python3.8/site-packages/xlsxwriter/worksheet.py:941: UserWarning: Ignoring URL 'https://video.digi-me.com/prudential/jobs/Finance/Customer%20Office/ZP0058\n",
      "If%20your%20skills%20reside%20at%20the%20intersection%20of%20analytics,%20technology,%20business%20and%20innovation,%20then%20we%20have%20a%20unique%20and%20exciting%20opportunity%20for%20you!\n",
      "Prudential%20Financial%20is%20looking%20for%20a%20motivated%20Data%20Scientist%20to%20join%20our%20diverse%20team%20of%20Engineers,%20Economists,%20Computer%20Scientists,%20Mathematicians,%20Physicists,%20Statisticians%20and%20Actuaries%20tasked%20with%20mining%20our%20industry-leading%20internal%20data%20to%20develop%20new%20analytics%20capabilities%20for%20our%20businesses.\n",
      "The%20role%20requires%20a%20rare%20combination%20of%20sophisticated%20analytical%20expertise;%20business%20acumen;%20strategic%20mindset;%20client%20relationship%20skills,%20project%20management;%20and%20a%20passion%20for%20generating%20business%20impact.%20This%20is%20an%20exciting%20opportunity%20to%20be%20a%20part%20of%20a%20strategic%20initiative%20that%20is%20evolving%20and%20growing%20over%20time.\n",
      "Primary%20responsibilities%20for%20this%20position%20include%20leading,%20designing,%20building,%20testing%20and%20presenting%20forward-thinking,%20high-impact%20Data%20Science%20projects%20focused%20on%20strategic%20business%20initiatives.\n",
      "Prudential%20Financial%20employs%2048,000%20across%20the%20US,%20Asia,%20Europe%20and%20Latin%20America%20providing%20insurance,%20investment%20management%20and%20other%20financial%20products%20that%20are%20vital%20to%20the%20wellbeing%20of%20our%20customers%20and%20their%20families%20in%20over%2030%20countries.%20Prudential%20is%20reinvigorating%20Newark’s%20downtown%20area%20with%20our%20new%20Prudential%20Tower%20and%20Hain%20building%20development.%20Newark%20is%20Prudential’s%20Global%20Headquarters%20with%20over%205,000%20employees%20across%20four%20downtown%20locations.%20We’re%20located%20a%20short%20walk%20or%20shuttle%20ride%20from%20Newark’s%20Penn%20and%20Broad%20Street%20Stations:%20a%20direct%20train%20ride%20or%20short%20drive%20(with%20free%20parking)%20from%20most%20of%20Northern%20and%20Central%20New%20Jersey%20and%20New%20York%20City.\n",
      "Responsibilities:\n",
      "Develop%20and%20maintain%20consultative%20relationships%20with%20key%20business%20stakeholders\n",
      "Identify,%20source,%20transform%20and%20join%20public,%20proprietary%20and%20internal%20data%20sources\n",
      "Model%20large%20structured%20and%20unstructured%20data%20sources%20(e.g.%20financial%20transactional,%20time-series,%20text,%20speech/audio%20and%20image)\n",
      "Implement%20advanced%20statistical%20methods%20for%20prediction%20and%20optimization%20including%20a%20wide%20variety%20of%20machine%20learning%20technologies%20(logit,%20regression,%20decision%20trees/forests,%20boosted%20models,%20clustering,%20etc.)%20for%20purposes%20including%20explorative%20analysis,%20survival%20analysis,%20segmentation,%20prediction%20and%20recommendation%20systems\n",
      "Perform%20analysis%20and%20implement%20solutions%20that%20maximize%20business%20impact\n",
      "Prepare%20and%20present%20written%20and%20verbal%20reports%20to%20key%20stakeholders\n",
      "Some%20domestic%20travel%20may%20be%20required\n",
      "Execute%20all%20aspects%20of%20an%20advanced%20analytical%20projects%20with%20minimal%20guidance\n",
      "Identify%20analytical%20solutions%20for%20business%20problems\n",
      "Qualifications\n",
      "Advanced%20degree%20(Masters,%20Ph.D.)%20in%20Mathematics,%20Statistics,%20Engineering,%20Econometrics,%20Physics,%20Computer%20Science,%20Actuarial,%20Data%20Science,%20or%20comparable%20quantitative%20disciplines\n",
      "A%20minimum%20of%20four%20years%20of%20industry%20experience%20with%20responsibility%20for%20developing%20advanced%20quantitative,%20analytical,%20statistical%20solutions\n",
      "Hands-on%20experience%20applying%20a%20wide%20variety%20of%20statistical%20machine%20learning%20techniques%20to%20real%20world%20problems%20spanning%20analysis,%20predictive%20modeling%20and%20optimization%20on%20structured%20and%20unstructured%20data\n",
      "Experience%20using%20tools%20such%20as%20Python,%20R,%20Matlab,%20SAS,%20SPSS%20or%20equivalent%20for%20statistical%20modeling%20of%20large%20data%20sets\n",
      "Well-developed%20written%20and%20oral%20communication%20skills%20with%20ability%20to%20present%20complex%20statistical%20concepts%20to%20non-analytical%20stakeholders%20(Excel,%20Word%20and%20PowerPoint%20are%20a%20must)\n",
      "Software%20engineering%20experience%20in%20C/C++/C' with link or location/anchor > 2079 characters since it exceeds Excel's limit for URLS\n",
      "  warn(\"Ignoring URL '%s' with link or location/anchor > %d \"\n"
     ]
    }
   ],
   "source": [
    "df.to_excel('/Users/macbook/Documents/IRON  HACK/Project 1/citystate.xlsx', index = False)"
   ]
  },
  {
   "cell_type": "markdown",
   "id": "24678a18",
   "metadata": {},
   "source": [
    "### Deal with text mining"
   ]
  },
  {
   "cell_type": "code",
   "execution_count": null,
   "id": "4be0a1bf",
   "metadata": {},
   "outputs": [],
   "source": []
  },
  {
   "cell_type": "code",
   "execution_count": 198,
   "id": "45316e39",
   "metadata": {},
   "outputs": [
    {
     "name": "stderr",
     "output_type": "stream",
     "text": [
      "[nltk_data] Downloading package punkt to /Users/macbook/nltk_data...\n",
      "[nltk_data]   Package punkt is already up-to-date!\n"
     ]
    },
    {
     "data": {
      "text/plain": [
       "True"
      ]
     },
     "execution_count": 198,
     "metadata": {},
     "output_type": "execute_result"
    }
   ],
   "source": [
    "import nltk\n",
    "import os\n",
    "import nltk.corpus\n",
    "import nltk\n",
    "nltk.download('punkt')"
   ]
  },
  {
   "cell_type": "code",
   "execution_count": 254,
   "id": "2a1b0b5f",
   "metadata": {},
   "outputs": [],
   "source": [
    "df['description']=df['description'].str.lower()"
   ]
  },
  {
   "cell_type": "code",
   "execution_count": 255,
   "id": "3860164e",
   "metadata": {},
   "outputs": [],
   "source": [
    "df['position']=df['position'].str.lower()"
   ]
  },
  {
   "cell_type": "code",
   "execution_count": 256,
   "id": "420dbba7",
   "metadata": {},
   "outputs": [
    {
     "name": "stderr",
     "output_type": "stream",
     "text": [
      "<ipython-input-256-1c623e9aa4bb>:1: FutureWarning: The default value of regex will change from True to False in a future version.\n",
      "  df['description']=df['description'].str.replace('[^\\w\\s\\d]',' ')\n"
     ]
    }
   ],
   "source": [
    "df['description']=df['description'].str.replace('[^\\w\\s\\d]',' ')"
   ]
  },
  {
   "cell_type": "code",
   "execution_count": 257,
   "id": "5521ff03",
   "metadata": {},
   "outputs": [
    {
     "name": "stderr",
     "output_type": "stream",
     "text": [
      "<ipython-input-257-990ad181aca3>:1: FutureWarning: The default value of regex will change from True to False in a future version.\n",
      "  df['description']=df['description'].str.replace(r'[^a-zA-Z0-9]',' ')\n"
     ]
    }
   ],
   "source": [
    "df['description']=df['description'].str.replace(r'[^a-zA-Z0-9]',' ')"
   ]
  },
  {
   "cell_type": "code",
   "execution_count": 258,
   "id": "7c8a50cf",
   "metadata": {},
   "outputs": [
    {
     "name": "stderr",
     "output_type": "stream",
     "text": [
      "<ipython-input-258-adb0c8ebd8cd>:1: FutureWarning: The default value of regex will change from True to False in a future version.\n",
      "  df['description']=df['description'].str.replace(r'\\n',' ')\n"
     ]
    }
   ],
   "source": [
    "df['description']=df['description'].str.replace(r'\\n',' ')"
   ]
  },
  {
   "cell_type": "code",
   "execution_count": 259,
   "id": "a7e8363b",
   "metadata": {},
   "outputs": [
    {
     "name": "stderr",
     "output_type": "stream",
     "text": [
      "<ipython-input-259-1c623e9aa4bb>:1: FutureWarning: The default value of regex will change from True to False in a future version.\n",
      "  df['description']=df['description'].str.replace('[^\\w\\s\\d]',' ')\n"
     ]
    }
   ],
   "source": [
    "df['description']=df['description'].str.replace('[^\\w\\s\\d]',' ')"
   ]
  },
  {
   "cell_type": "code",
   "execution_count": 265,
   "id": "8fc2db83",
   "metadata": {},
   "outputs": [],
   "source": [
    "tool_list = ['python','sql','java','scala','excel',\n",
    "               'aws','hadoop','spark','linux','tableau','sas',\n",
    "               'linux','sas','hive','oracle','perl',\n",
    "               'mysql','matlab','html','tensorflow','spss','mongodb']\n",
    "\n",
    "degree_list = ['master',\"masters\",'phd','bachelor',\"bachelors\",\n",
    "             'high school','No degree requirement']\n",
    "\n",
    "skills_list = ['machine learning','data analysis','data visualization',\n",
    "            'modeling','statistical analysis','research','deep learning',\n",
    "            'optimization','decision tree','logistic','random forest',\n",
    "            'ab testing','web scraping','neural network','interpersonal skills',\n",
    "            'communication skills','artificial intelligence']\n",
    "\n",
    "major_list = ['computer science','data science','statistics','quantitative',\n",
    "            'mathematics','economics','liberal arts','science','buisness',\n",
    "            'engineer','engineering','psychology','biology','medicine',\n",
    "            'marketing','business analysis','chemical engineering','chemistry',\n",
    "            'public health','public relationship']"
   ]
  },
  {
   "cell_type": "code",
   "execution_count": 266,
   "id": "c23b4455",
   "metadata": {},
   "outputs": [],
   "source": [
    "def containsKeyword (keyword,description):\n",
    "    if keyword in description:\n",
    "        return True\n",
    "    else: return False"
   ]
  },
  {
   "cell_type": "code",
   "execution_count": 262,
   "id": "620c18e7",
   "metadata": {},
   "outputs": [],
   "source": [
    "def countKeywords(keywordList, dframe, columnName):\n",
    "    for k in keywordList:\n",
    "        dframe[k] = dframe.apply(lambda row : containsKeyword(k,row[columnName]), axis=1)\n",
    "    return dframe\n",
    "        "
   ]
  },
  {
   "cell_type": "code",
   "execution_count": 263,
   "id": "a6c98bd9",
   "metadata": {},
   "outputs": [],
   "source": [
    "df_skills = countKeywords(skills_list,df,'description')"
   ]
  },
  {
   "cell_type": "code",
   "execution_count": 250,
   "id": "6c70154c",
   "metadata": {},
   "outputs": [
    {
     "name": "stdout",
     "output_type": "stream",
     "text": [
      "<class 'pandas.core.frame.DataFrame'>\n",
      "Int64Index: 6953 entries, 0 to 6953\n",
      "Data columns (total 24 columns):\n",
      " #   Column                   Non-Null Count  Dtype  \n",
      "---  ------                   --------------  -----  \n",
      " 0   position                 6953 non-null   object \n",
      " 1   company                  6953 non-null   object \n",
      " 2   description              6953 non-null   object \n",
      " 3   reviews                  6953 non-null   float64\n",
      " 4   location                 6953 non-null   object \n",
      " 5   city                     6953 non-null   object \n",
      " 6   state                    6953 non-null   object \n",
      " 7   machine learning         6953 non-null   bool   \n",
      " 8   data analysis            6953 non-null   bool   \n",
      " 9   data visualization       6953 non-null   bool   \n",
      " 10  modeling                 6953 non-null   bool   \n",
      " 11  statistical analysis     6953 non-null   bool   \n",
      " 12  research                 6953 non-null   bool   \n",
      " 13  deep learning            6953 non-null   bool   \n",
      " 14  optimization             6953 non-null   bool   \n",
      " 15  decision tree            6953 non-null   bool   \n",
      " 16  logistic                 6953 non-null   bool   \n",
      " 17  random forest            6953 non-null   bool   \n",
      " 18  ab testing               6953 non-null   bool   \n",
      " 19  web scraping             6953 non-null   bool   \n",
      " 20  neural network           6953 non-null   bool   \n",
      " 21  interpersonal skills     6953 non-null   bool   \n",
      " 22  communication skills     6953 non-null   bool   \n",
      " 23  artificial intelligence  6953 non-null   bool   \n",
      "dtypes: bool(17), float64(1), object(6)\n",
      "memory usage: 808.0+ KB\n"
     ]
    }
   ],
   "source": [
    "df.info()"
   ]
  },
  {
   "cell_type": "code",
   "execution_count": 241,
   "id": "a4749df0",
   "metadata": {},
   "outputs": [],
   "source": [
    "def totalFrequency(keywordList,dframe):\n",
    "    keywords = []\n",
    "    frequency = []\n",
    "    for k in keywordList:\n",
    "        keywords.append(k)\n",
    "        frequency.append(sum(dframe[k]))\n",
    "    total= pd.DataFrame(columns=['keywords','freq'])\n",
    "    total['keywords'] = keywords\n",
    "    total['freq'] = frequency\n",
    "    return total"
   ]
  },
  {
   "cell_type": "code",
   "execution_count": 242,
   "id": "70f7b47e",
   "metadata": {},
   "outputs": [
    {
     "data": {
      "text/html": [
       "<div>\n",
       "<style scoped>\n",
       "    .dataframe tbody tr th:only-of-type {\n",
       "        vertical-align: middle;\n",
       "    }\n",
       "\n",
       "    .dataframe tbody tr th {\n",
       "        vertical-align: top;\n",
       "    }\n",
       "\n",
       "    .dataframe thead th {\n",
       "        text-align: right;\n",
       "    }\n",
       "</style>\n",
       "<table border=\"1\" class=\"dataframe\">\n",
       "  <thead>\n",
       "    <tr style=\"text-align: right;\">\n",
       "      <th></th>\n",
       "      <th>keywords</th>\n",
       "      <th>freq</th>\n",
       "    </tr>\n",
       "  </thead>\n",
       "  <tbody>\n",
       "    <tr>\n",
       "      <th>0</th>\n",
       "      <td>machine learning</td>\n",
       "      <td>2474</td>\n",
       "    </tr>\n",
       "    <tr>\n",
       "      <th>1</th>\n",
       "      <td>data analysis</td>\n",
       "      <td>1424</td>\n",
       "    </tr>\n",
       "    <tr>\n",
       "      <th>2</th>\n",
       "      <td>data visualization</td>\n",
       "      <td>540</td>\n",
       "    </tr>\n",
       "    <tr>\n",
       "      <th>3</th>\n",
       "      <td>modeling</td>\n",
       "      <td>1643</td>\n",
       "    </tr>\n",
       "    <tr>\n",
       "      <th>4</th>\n",
       "      <td>statistical analysis</td>\n",
       "      <td>602</td>\n",
       "    </tr>\n",
       "    <tr>\n",
       "      <th>5</th>\n",
       "      <td>research</td>\n",
       "      <td>4161</td>\n",
       "    </tr>\n",
       "    <tr>\n",
       "      <th>6</th>\n",
       "      <td>deep learning</td>\n",
       "      <td>596</td>\n",
       "    </tr>\n",
       "    <tr>\n",
       "      <th>7</th>\n",
       "      <td>optimization</td>\n",
       "      <td>1004</td>\n",
       "    </tr>\n",
       "    <tr>\n",
       "      <th>8</th>\n",
       "      <td>decision tree</td>\n",
       "      <td>154</td>\n",
       "    </tr>\n",
       "    <tr>\n",
       "      <th>9</th>\n",
       "      <td>logistic</td>\n",
       "      <td>320</td>\n",
       "    </tr>\n",
       "    <tr>\n",
       "      <th>10</th>\n",
       "      <td>random forest</td>\n",
       "      <td>130</td>\n",
       "    </tr>\n",
       "    <tr>\n",
       "      <th>11</th>\n",
       "      <td>ab testing</td>\n",
       "      <td>12</td>\n",
       "    </tr>\n",
       "    <tr>\n",
       "      <th>12</th>\n",
       "      <td>web scraping</td>\n",
       "      <td>11</td>\n",
       "    </tr>\n",
       "    <tr>\n",
       "      <th>13</th>\n",
       "      <td>neural network</td>\n",
       "      <td>320</td>\n",
       "    </tr>\n",
       "    <tr>\n",
       "      <th>14</th>\n",
       "      <td>interpersonal skills</td>\n",
       "      <td>603</td>\n",
       "    </tr>\n",
       "    <tr>\n",
       "      <th>15</th>\n",
       "      <td>communication skills</td>\n",
       "      <td>2662</td>\n",
       "    </tr>\n",
       "    <tr>\n",
       "      <th>16</th>\n",
       "      <td>artificial intelligence</td>\n",
       "      <td>485</td>\n",
       "    </tr>\n",
       "  </tbody>\n",
       "</table>\n",
       "</div>"
      ],
      "text/plain": [
       "                   keywords  freq\n",
       "0          machine learning  2474\n",
       "1             data analysis  1424\n",
       "2        data visualization   540\n",
       "3                  modeling  1643\n",
       "4      statistical analysis   602\n",
       "5                  research  4161\n",
       "6             deep learning   596\n",
       "7              optimization  1004\n",
       "8             decision tree   154\n",
       "9                  logistic   320\n",
       "10            random forest   130\n",
       "11               ab testing    12\n",
       "12             web scraping    11\n",
       "13           neural network   320\n",
       "14     interpersonal skills   603\n",
       "15     communication skills  2662\n",
       "16  artificial intelligence   485"
      ]
     },
     "execution_count": 242,
     "metadata": {},
     "output_type": "execute_result"
    }
   ],
   "source": [
    "skills_total = totalFrequency(skills_list,df_skills)"
   ]
  },
  {
   "cell_type": "code",
   "execution_count": null,
   "id": "af0adc62",
   "metadata": {},
   "outputs": [],
   "source": []
  },
  {
   "cell_type": "code",
   "execution_count": 50,
   "id": "63ec7710",
   "metadata": {},
   "outputs": [
    {
     "data": {
      "text/plain": [
       "str"
      ]
     },
     "execution_count": 50,
     "metadata": {},
     "output_type": "execute_result"
    }
   ],
   "source": [
    "str1 = \" \"\n",
    "for ele in df['description']:\n",
    "    str1+= ele+ \" \"\n",
    "type(str1)"
   ]
  },
  {
   "cell_type": "code",
   "execution_count": 75,
   "id": "dfbb2601",
   "metadata": {},
   "outputs": [
    {
     "data": {
      "text/plain": [
       "list"
      ]
     },
     "execution_count": 75,
     "metadata": {},
     "output_type": "execute_result"
    }
   ],
   "source": [
    "from nltk.tokenize import word_tokenize\n",
    "token = word_tokenize(str1)\n",
    "type(token)"
   ]
  },
  {
   "cell_type": "code",
   "execution_count": 25,
   "id": "33c47183",
   "metadata": {},
   "outputs": [],
   "source": [
    "from nltk.corpus import stopwords\n",
    "stw_ref = stopwords.words('english')"
   ]
  },
  {
   "cell_type": "code",
   "execution_count": 26,
   "id": "56f98881",
   "metadata": {},
   "outputs": [],
   "source": [
    "description_list=[x for x in token if x not in stw_ref]"
   ]
  },
  {
   "cell_type": "code",
   "execution_count": 27,
   "id": "b101e09e",
   "metadata": {},
   "outputs": [
    {
     "name": "stdout",
     "output_type": "stream",
     "text": [
      "['development', 'director', 'als', 'therapy', 'development', 'institute', 'immediate', 'opening', 'development', 'directors', 'reporting', 'directly', 'senior', 'development', 'director', 'development', 'director', 'als', 'tdi', 'senior']\n"
     ]
    }
   ],
   "source": [
    "print(description_list[0:20])"
   ]
  },
  {
   "cell_type": "code",
   "execution_count": 28,
   "id": "388800ab",
   "metadata": {},
   "outputs": [
    {
     "data": {
      "text/plain": [
       "FreqDist({'data': 39765, 'experience': 31664, 'work': 19171, 'team': 16153, 'research': 14500, 'skills': 12744, 'development': 12486, 'business': 11831, 'ability': 10215, 'learning': 9642, ...})"
      ]
     },
     "execution_count": 28,
     "metadata": {},
     "output_type": "execute_result"
    }
   ],
   "source": [
    "from nltk.probability import FreqDist\n",
    "fdist = FreqDist(description_list)\n",
    "fdist"
   ]
  },
  {
   "cell_type": "code",
   "execution_count": null,
   "id": "5b7c7a49",
   "metadata": {},
   "outputs": [],
   "source": []
  }
 ],
 "metadata": {
  "kernelspec": {
   "display_name": "Python 3",
   "language": "python",
   "name": "python3"
  },
  "language_info": {
   "codemirror_mode": {
    "name": "ipython",
    "version": 3
   },
   "file_extension": ".py",
   "mimetype": "text/x-python",
   "name": "python",
   "nbconvert_exporter": "python",
   "pygments_lexer": "ipython3",
   "version": "3.8.8"
  },
  "toc": {
   "base_numbering": 1,
   "nav_menu": {},
   "number_sections": true,
   "sideBar": true,
   "skip_h1_title": false,
   "title_cell": "Table of Contents",
   "title_sidebar": "Contents",
   "toc_cell": false,
   "toc_position": {
    "height": "calc(100% - 180px)",
    "left": "10px",
    "top": "150px",
    "width": "329.006px"
   },
   "toc_section_display": true,
   "toc_window_display": true
  }
 },
 "nbformat": 4,
 "nbformat_minor": 5
}
